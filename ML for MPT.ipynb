{
 "cells": [
  {
   "cell_type": "markdown",
   "metadata": {},
   "source": [
    "# Contents:\n",
    "- combine six stocks and create a combined portfolio\n",
    "- generate random portfolios with random weights on the three stocks to compute efficient frontiers\n",
    "- calculate an optimal portfolio by selecting the portfolio with best sharpe ratio\n",
    "- predict the portfolio weights using a RandomForest Regressor with exponentially weighted moving averages of prices\n",
    "- compare return of predictions on portfolio with individual stock"
   ]
  },
  {
   "cell_type": "markdown",
   "metadata": {},
   "source": [
    "# Tools:\n",
    "- MPT, Sharpe Ratios\n",
    "- RandomForestRegressor"
   ]
  },
  {
   "cell_type": "markdown",
   "metadata": {},
   "source": [
    "# Impoer Package"
   ]
  },
  {
   "cell_type": "code",
   "execution_count": 1,
   "metadata": {},
   "outputs": [],
   "source": [
    "import numpy as np\n",
    "import pandas as pd\n",
    "import matplotlib.pyplot as plt\n",
    "from pandas.plotting import register_matplotlib_converters\n",
    "from matplotlib.ticker import MultipleLocator\n",
    "from matplotlib import rcParams\n",
    "\n",
    "plt.style.use('seaborn')\n",
    "plt.rcParams.update({'axes.titlepad': 20, 'font.size': 12, 'axes.titlesize':20})\n",
    "\n",
    "from sklearn.ensemble import RandomForestRegressor"
   ]
  },
  {
   "cell_type": "markdown",
   "metadata": {},
   "source": [
    "# Data"
   ]
  },
  {
   "cell_type": "code",
   "execution_count": 2,
   "metadata": {},
   "outputs": [],
   "source": [
    "aapl = pd.read_csv('AAPL.csv')\n",
    "aapl['Date'] = pd.to_datetime(aapl['Date'], format='%Y-%m-%d')\n",
    "aapl.set_index(['Date'],inplace=True)\n",
    "aapl = aapl[['Adj_Close']].loc['2013-02-21':'2018-01-31']\n",
    "aapl['AAPL'] = aapl['Adj_Close']\n",
    "aapl.drop(columns=['Adj_Close'], inplace=True)"
   ]
  },
  {
   "cell_type": "code",
   "execution_count": 3,
   "metadata": {},
   "outputs": [],
   "source": [
    "amd = pd.read_csv('AMD.csv')\n",
    "amd['Date'] = pd.to_datetime(amd['Date'], format='%Y-%m-%d')\n",
    "amd.set_index(['Date'],inplace=True)\n",
    "amd = amd[['Adj_Close']].loc['2013-02-21':'2018-01-31']\n",
    "amd['AMD'] = amd['Adj_Close']\n",
    "amd.drop(columns=['Adj_Close'], inplace=True)"
   ]
  },
  {
   "cell_type": "code",
   "execution_count": 4,
   "metadata": {},
   "outputs": [],
   "source": [
    "smlv = pd.read_csv('SMLV.csv')\n",
    "smlv['Date'] = pd.to_datetime(smlv['Date'], format='%Y-%m-%d')\n",
    "smlv.set_index(['Date'],inplace=True)\n",
    "smlv = smlv[['Adj_Close']].loc['2013-02-21':'2018-01-31']\n",
    "smlv['SMLV'] = smlv['Adj_Close']\n",
    "smlv.drop(columns=['Adj_Close'], inplace=True)"
   ]
  },
  {
   "cell_type": "code",
   "execution_count": 5,
   "metadata": {},
   "outputs": [],
   "source": [
    "spy = pd.read_csv('SPY.csv')\n",
    "spy['Date'] = pd.to_datetime(spy['Date'], format='%Y-%m-%d')\n",
    "spy.set_index(['Date'],inplace=True)\n",
    "spy = spy[['Adj_Close']].loc['2013-02-21':'2018-01-31']\n",
    "spy['SPY'] = spy['Adj_Close']\n",
    "spy.drop(columns=['Adj_Close'], inplace=True)"
   ]
  },
  {
   "cell_type": "code",
   "execution_count": 6,
   "metadata": {},
   "outputs": [],
   "source": [
    "lng = pd.read_csv('LNG.csv')\n",
    "lng['Date'] = pd.to_datetime(lng['Date'], format='%Y-%m-%d')\n",
    "lng.set_index(['Date'],inplace=True)\n",
    "lng = lng[['Adj_Close']].loc['2013-02-21':'2018-01-31']\n",
    "lng['LNG'] = lng['Adj_Close']\n",
    "lng.drop(columns=['Adj_Close'], inplace=True)"
   ]
  },
  {
   "cell_type": "code",
   "execution_count": 7,
   "metadata": {},
   "outputs": [],
   "source": [
    "msft = pd.read_csv('MSFTPrices.csv')\n",
    "msft['Date'] = pd.to_datetime(msft['Date'], format='%Y-%m-%d')\n",
    "msft.set_index(['Date'],inplace=True)\n",
    "msft = msft.loc['2013-02-21':'2018-01-31']\n",
    "msft['MSFT'] = msft['Adjusted']"
   ]
  },
  {
   "cell_type": "markdown",
   "metadata": {},
   "source": [
    "## Modern portfolio theory(MPT): efficient frontiers"
   ]
  },
  {
   "cell_type": "markdown",
   "metadata": {},
   "source": [
    "## Join stock DataFrames and calculate returns"
   ]
  },
  {
   "cell_type": "code",
   "execution_count": 8,
   "metadata": {},
   "outputs": [
    {
     "name": "stdout",
     "output_type": "stream",
     "text": [
      "                AAPL       AMD      SMLV       LNG       SPY      MSFT\n",
      "Date                                                                  \n",
      "2013-03-01 -0.034950 -0.069231  0.000504  0.047006  0.011235  0.016733\n",
      "2013-04-01 -0.003624  0.008264  0.037543  0.320416  0.030471  0.023613\n",
      "2013-05-01  0.024201  0.319672  0.004701 -0.001790  0.014290  0.143656\n",
      "2013-06-03  0.032870  0.229814  0.020168  0.048404  0.038350  0.095341\n",
      "2013-07-01 -0.092075  0.035354 -0.003289 -0.014022 -0.013014 -0.034560\n",
      "2013-08-01  0.115967 -0.070732  0.069600  0.012834  0.057635 -0.078289\n",
      "2013-09-02  0.076939 -0.141732 -0.058999 -0.022603 -0.036740  0.013724\n",
      "2013-10-01 -0.001269  0.180428  0.070166  0.202172  0.035168  0.053325\n",
      "2013-11-01  0.065723 -0.142487  0.021679  0.141941  0.040569  0.058070\n",
      "2013-12-02  0.066203  0.105740  0.025281  0.055130  0.024516  0.090391\n",
      "2014-01-01  0.003447  0.079235  0.039006  0.050556  0.018708 -0.033550\n",
      "2014-02-03 -0.093287 -0.156962 -0.042607 -0.008980 -0.047835 -0.018299\n",
      "2014-03-03  0.058562  0.102102  0.063571  0.144517  0.062066  0.043402\n",
      "2014-04-01  0.026319  0.108992  0.029930  0.169103  0.022185  0.096347\n",
      "2014-05-01  0.091997  0.031941 -0.036966 -0.004688  0.000425 -0.034283\n",
      "2014-06-02  0.068789 -0.054762  0.010131  0.195045  0.024266  0.026944\n",
      "2014-07-01  0.041343  0.062972  0.055217  0.067007  0.026293  0.026477\n",
      "2014-08-01  0.027908 -0.059242 -0.061414 -0.014913 -0.022991  0.023645\n",
      "2014-09-01  0.079932  0.047859  0.062993  0.142361  0.042130  0.058600\n",
      "2014-10-01 -0.039884 -0.194712 -0.059580 -0.051064 -0.026671  0.017965\n",
      "2014-11-03  0.103045 -0.143284  0.102005 -0.047277  0.038179  0.033551\n",
      "2014-12-01  0.056376 -0.069686 -0.007634 -0.103012  0.019775  0.031338\n",
      "2015-01-01 -0.049883  0.007491  0.020411  0.069265 -0.001604 -0.038256\n",
      "2015-02-02  0.085064 -0.007435 -0.024087  0.005609 -0.017086 -0.117194\n",
      "2015-03-02  0.092437  0.202247  0.033770  0.116983  0.049871  0.070550\n",
      "2015-04-01 -0.037493 -0.161994  0.008586 -0.030583 -0.029671 -0.072015\n",
      "2015-05-01  0.037827 -0.141264 -0.020967  0.002318  0.024404  0.194990\n",
      "2015-06-01  0.016494 -0.025974  0.010903 -0.035714  0.004034 -0.023080\n",
      "2015-07-01 -0.030145  0.075556 -0.007780 -0.084333 -0.019237 -0.058861\n",
      "2015-08-03 -0.064455 -0.090909 -0.005616 -0.040012  0.011036  0.053093\n",
      "2015-09-01 -0.086402 -0.222727 -0.069733 -0.096696 -0.085895 -0.100710\n",
      "2015-10-01  0.017267  0.017544  0.001944 -0.161074  0.001877  0.066715\n",
      "2015-11-02  0.105859  0.258621  0.084071 -0.072400  0.095040  0.193454\n",
      "2015-12-01 -0.027524  0.068493  0.020450  0.007331  0.001378  0.044181\n",
      "2016-01-01 -0.102182  0.183761 -0.088188 -0.197132 -0.045851 -0.007606\n",
      "2016-02-01 -0.084670 -0.227437 -0.026463 -0.219408 -0.036663 -0.001642\n",
      "2016-03-01  0.048130  0.018692  0.032840  0.196380  0.023031 -0.032032\n",
      "2016-04-01  0.094101  0.298165  0.056848 -0.035969  0.044470  0.056866\n",
      "2016-05-02 -0.148650  0.321555  0.002344  0.154575  0.005074 -0.089257\n",
      "2016-06-01  0.057902  0.184492  0.018776 -0.173121  0.011059  0.051564\n",
      "2016-07-01 -0.026102  0.144470 -0.002110  0.198821  0.003549 -0.031977\n",
      "2016-08-01  0.105955  0.309665  0.046582  0.018629  0.033441  0.105942\n",
      "2016-09-01  0.011831  0.106928  0.024030  0.083820  0.002074  0.024195\n",
      "2016-10-03  0.054249 -0.054422 -0.019722 -0.013124 -0.002372 -0.002952\n",
      "2016-11-01 -0.009154  0.020144 -0.017996 -0.111375 -0.022106  0.041449\n",
      "2016-12-01 -0.012842  0.183357  0.146883  0.103421  0.040567 -0.003346\n",
      "2017-01-02  0.060827  0.362336  0.043741  0.025672  0.031881  0.057095\n",
      "2017-02-01  0.108480  0.055118 -0.027668  0.112161  0.010566  0.015980\n",
      "2017-03-01  0.090421  0.240464  0.027799  0.019108  0.053422  0.027583\n",
      "2017-04-03  0.027971 -0.021390 -0.033653 -0.019792 -0.014281  0.009393\n",
      "2017-05-01  0.020042 -0.069672  0.027544 -0.030393  0.014235  0.058886\n",
      "2017-06-01  0.049303 -0.197504 -0.008074  0.079790  0.019608  0.015730\n",
      "2017-07-03 -0.063194  0.111619  0.013324  0.001827  0.000127 -0.027532\n",
      "2017-08-01  0.045645  0.128395  0.003135 -0.081662  0.021097  0.064691\n",
      "2017-09-01  0.097737 -0.037929 -0.014714 -0.036628  0.002103  0.024166\n",
      "2017-10-02 -0.062420 -0.036391  0.059652  0.049702  0.023120  0.009061\n",
      "2017-11-01  0.085040 -0.150275 -0.010705  0.037530  0.020490  0.114864\n",
      "2017-12-01  0.028623 -0.006481  0.029058  0.019558  0.027069  0.018071\n",
      "2018-01-01  0.007074  0.023299 -0.010725  0.128300  0.021450  0.020057\n"
     ]
    }
   ],
   "source": [
    "# Join 6 stock dataframes together\n",
    "full_df = pd.concat([aapl, amd, smlv, lng, spy, msft['MSFT']], axis=1).dropna()\n",
    "\n",
    "# Resample the full dataframe to monthly timeframe\n",
    "monthly_df = full_df.resample('BMS').first()\n",
    "\n",
    "# Calculate daily returns of stocks\n",
    "returns_daily = full_df.pct_change()\n",
    "\n",
    "# Calculate monthly returns of the stocks\n",
    "returns_monthly = monthly_df.pct_change().dropna()\n",
    "print(returns_monthly)"
   ]
  },
  {
   "cell_type": "markdown",
   "metadata": {},
   "source": [
    "## Calculate covariances for volatility"
   ]
  },
  {
   "cell_type": "code",
   "execution_count": 9,
   "metadata": {},
   "outputs": [
    {
     "name": "stdout",
     "output_type": "stream",
     "text": [
      "          AAPL       AMD      SMLV       LNG       SPY      MSFT\n",
      "AAPL  0.000103  0.000109  0.000018  0.000021  0.000033  0.000045\n",
      "AMD   0.000109  0.000996  0.000004  0.000078  0.000057  0.000128\n",
      "SMLV  0.000018  0.000004  0.000034  0.000022  0.000018  0.000010\n",
      "LNG   0.000021  0.000078  0.000022  0.000224  0.000040  0.000024\n",
      "SPY   0.000033  0.000057  0.000018  0.000040  0.000030  0.000040\n",
      "MSFT  0.000045  0.000128  0.000010  0.000024  0.000040  0.000107\n"
     ]
    }
   ],
   "source": [
    "# Daily covariance of stocks (for each monthly period)\n",
    "covariances = {}\n",
    "rtd_idx = returns_daily.index\n",
    "for i in returns_monthly.index:    \n",
    "    # Mask daily returns for each month and year, and calculate covariance\n",
    "    mask = (rtd_idx.month == i.month) & (rtd_idx.year == i.year)\n",
    "    \n",
    "    # Use the mask to get daily returns for the current month and year of monthy returns index\n",
    "    covariances[i] = returns_daily[mask].cov()\n",
    "\n",
    "print(covariances[i])"
   ]
  },
  {
   "cell_type": "markdown",
   "metadata": {},
   "source": [
    "## Calculate portfolios"
   ]
  },
  {
   "cell_type": "code",
   "execution_count": 10,
   "metadata": {},
   "outputs": [
    {
     "name": "stdout",
     "output_type": "stream",
     "text": [
      "[0.01691581 0.05071178 0.30984663 0.28898202 0.09311014 0.24043363]\n"
     ]
    }
   ],
   "source": [
    "portfolio_returns, portfolio_volatility, portfolio_weights = {}, {}, {}\n",
    "\n",
    "# Get portfolio performances at each month\n",
    "for date in sorted(covariances.keys()):\n",
    "    cov = covariances[date]\n",
    "    for portfolio in range(1000):\n",
    "        weights = np.random.random(6)\n",
    "        weights /= np.sum(weights) # /= divides weights by their sum to normalize\n",
    "        returns = np.dot(weights, returns_monthly.loc[date])\n",
    "        volatility = np.sqrt(np.dot(weights.T, np.dot(cov, weights)))\n",
    "        portfolio_returns.setdefault(date, []).append(returns)\n",
    "        portfolio_volatility.setdefault(date, []).append(volatility)\n",
    "        portfolio_weights.setdefault(date, []).append(weights)\n",
    "        \n",
    "print(portfolio_weights[date][0])"
   ]
  },
  {
   "cell_type": "markdown",
   "metadata": {},
   "source": [
    "## Plot efficient frontier"
   ]
  },
  {
   "cell_type": "code",
   "execution_count": 11,
   "metadata": {},
   "outputs": [
    {
     "data": {
      "image/png": "[encoded data removed]",
      "text/plain": [
       "<Figure size 432x288 with 1 Axes>"
      ]
     },
     "metadata": {
      "needs_background": "light"
     },
     "output_type": "display_data"
    }
   ],
   "source": [
    "#use latest date from the covariances dictionary\n",
    "date = sorted(covariances.keys())[-1] \n",
    "\n",
    "plt.scatter(x=portfolio_volatility[date], y=portfolio_returns[date],  alpha=0.3)\n",
    "plt.xlabel('Volatility')\n",
    "plt.ylabel('Returns')\n",
    "plt.show()"
   ]
  },
  {
   "cell_type": "markdown",
   "metadata": {},
   "source": [
    "# Sharpe ratios: features and targets"
   ]
  },
  {
   "cell_type": "markdown",
   "metadata": {},
   "source": [
    "## Get best Sharpe ratios"
   ]
  },
  {
   "cell_type": "code",
   "execution_count": 12,
   "metadata": {},
   "outputs": [
    {
     "name": "stdout",
     "output_type": "stream",
     "text": [
      "0.07343436835812883\n"
     ]
    }
   ],
   "source": [
    "# Empty dictionaries for sharpe ratios and best sharpe indexes by date\n",
    "sharpe_ratio, max_sharpe_idxs = {}, {}\n",
    "\n",
    "# Loop through dates and get sharpe ratio for each portfolio\n",
    "for date in portfolio_returns.keys():\n",
    "    for i, ret in enumerate(portfolio_returns[date]):\n",
    "    \n",
    "        # Divide returns by the volatility for the date and index, i\n",
    "        sharpe_ratio.setdefault(date, []).append(ret / portfolio_volatility[date][i])\n",
    "\n",
    "    # Get the index of the best sharpe ratio for each date\n",
    "    max_sharpe_idxs[date] = np.argmax(sharpe_ratio[date])\n",
    "\n",
    "print(portfolio_returns[date][max_sharpe_idxs[date]])"
   ]
  },
  {
   "cell_type": "markdown",
   "metadata": {},
   "source": [
    "## Calculate EWMAs\n",
    "- EWMA: daily exponentially-weighted moving average as feature"
   ]
  },
  {
   "cell_type": "code",
   "execution_count": 13,
   "metadata": {},
   "outputs": [
    {
     "name": "stdout",
     "output_type": "stream",
     "text": [
      "AAPL    0.000992\n",
      "AMD    -0.004848\n",
      "SMLV    0.001337\n",
      "LNG     0.001067\n",
      "SPY     0.001504\n",
      "MSFT    0.001836\n",
      "Name: 2018-01-01 00:00:00, dtype: float64\n"
     ]
    }
   ],
   "source": [
    "# Calculate exponentially-weighted moving average of daily returns\n",
    "ewma_daily = returns_daily.ewm(span=30).mean()\n",
    "\n",
    "# Resample daily returns to first business day of the month with the first day for that month\n",
    "ewma_monthly = ewma_daily.resample('BMS').first()\n",
    "\n",
    "# Shift ewma for the month by 1 month forward so we can use it as a feature for future predictions \n",
    "ewma_monthly = ewma_monthly.shift(1).dropna()\n",
    "\n",
    "print(ewma_monthly.iloc[-1])"
   ]
  },
  {
   "cell_type": "markdown",
   "metadata": {},
   "source": [
    "## Make features and targets"
   ]
  },
  {
   "cell_type": "code",
   "execution_count": 14,
   "metadata": {},
   "outputs": [
    {
     "name": "stdout",
     "output_type": "stream",
     "text": [
      "[[0.43632219 0.03150514 0.10682314 0.1210123  0.00705732 0.29727992]\n",
      " [0.05761641 0.02521977 0.32182001 0.14836588 0.3897181  0.05725983]\n",
      " [0.14770637 0.00273696 0.17200521 0.08593884 0.26521007 0.32640255]\n",
      " [0.00319073 0.0183085  0.31998819 0.01887064 0.52288053 0.11676141]\n",
      " [0.17999619 0.0056317  0.03713947 0.52233667 0.21513698 0.03975898]]\n"
     ]
    }
   ],
   "source": [
    "targets, features = [], []\n",
    "\n",
    "# Create features from price history and targets as ideal portfolio\n",
    "for date, ewma in ewma_monthly.iterrows():\n",
    "\n",
    "    # Get the index of the best sharpe ratio\n",
    "    best_idx = max_sharpe_idxs[date]\n",
    "    targets.append(portfolio_weights[date][best_idx])\n",
    "    features.append(ewma)  # add ewma to features\n",
    "\n",
    "targets = np.array(targets)\n",
    "features = np.array(features)\n",
    "print(targets[-5:])"
   ]
  },
  {
   "cell_type": "markdown",
   "metadata": {},
   "source": [
    "## Plot efficient frontier with best Sharpe ratio"
   ]
  },
  {
   "cell_type": "code",
   "execution_count": 15,
   "metadata": {},
   "outputs": [
    {
     "data": {
      "image/png": "[encoded data removed]",
      "text/plain": [
       "<Figure size 432x288 with 1 Axes>"
      ]
     },
     "metadata": {
      "needs_background": "light"
     },
     "output_type": "display_data"
    }
   ],
   "source": [
    "# Get most recent (current) returns and volatility\n",
    "date = sorted(covariances.keys())[-1]\n",
    "\n",
    "# Plot efficient frontier with sharpe as point\n",
    "plt.scatter(x=portfolio_volatility[date], y=portfolio_returns[date], alpha=0.3)\n",
    "best_idx = max_sharpe_idxs[date]\n",
    "\n",
    "# Place an orange \"X\" on the point with the best Sharpe ratio\n",
    "plt.scatter(x=portfolio_volatility[date][best_idx], y=portfolio_returns[date][best_idx], marker='x', color='orange')\n",
    "plt.xlabel('Volatility')\n",
    "plt.ylabel('Returns')\n",
    "plt.show()"
   ]
  },
  {
   "cell_type": "markdown",
   "metadata": {},
   "source": [
    "## Machine Learning for MPT"
   ]
  },
  {
   "cell_type": "markdown",
   "metadata": {},
   "source": [
    "## Make predictions with a random forest"
   ]
  },
  {
   "cell_type": "code",
   "execution_count": 16,
   "metadata": {},
   "outputs": [],
   "source": [
    "# Make train and test features\n",
    "train_size = int(0.85 * features.shape[0])\n",
    "train_features = features[:train_size]\n",
    "test_features = features[train_size:]\n",
    "train_targets = targets[:train_size]\n",
    "test_targets = targets[train_size:]\n",
    "\n",
    "# Fit the model and check scores on train and test\n",
    "rfr = RandomForestRegressor(n_estimators=300, random_state=42)\n",
    "model_rfr = rfr.fit(train_features, train_targets)"
   ]
  },
  {
   "cell_type": "markdown",
   "metadata": {},
   "source": [
    "## Get predictions and first evaluation"
   ]
  },
  {
   "cell_type": "code",
   "execution_count": 17,
   "metadata": {},
   "outputs": [
    {
     "name": "stderr",
     "output_type": "stream",
     "text": [
      "C:\\Users\\Thinkpad\\Anaconda3\\lib\\site-packages\\pandas\\plotting\\_matplotlib\\converter.py:103: FutureWarning: Using an implicitly registered datetime converter for a matplotlib plotting method. The converter was registered by pandas on import. Future versions of pandas will require you to explicitly register matplotlib converters.\n",
      "\n",
      "To register the converters:\n",
      "\t>>> from pandas.plotting import register_matplotlib_converters\n",
      "\t>>> register_matplotlib_converters()\n",
      "  warnings.warn(msg, FutureWarning)\n"
     ]
    },
    {
     "data": {
      "image/png": "[encoded data removed]",
      "text/plain": [
       "<Figure size 432x288 with 1 Axes>"
      ]
     },
     "metadata": {
      "needs_background": "light"
     },
     "output_type": "display_data"
    }
   ],
   "source": [
    "# Get predictions from model on train and test\n",
    "train_predictions = model_rfr.predict(train_features)\n",
    "test_predictions = model_rfr.predict(test_features)\n",
    "\n",
    "# Calculate and plot returns from our RF predictions and the SPY returns\n",
    "test_returns = np.sum(returns_monthly.iloc[train_size:] * test_predictions, axis=1)\n",
    "plt.plot(test_returns, label='algo')\n",
    "plt.plot(returns_monthly['SMLV'].iloc[train_size:], label='SMLV')\n",
    "plt.legend()\n",
    "plt.show()"
   ]
  },
  {
   "cell_type": "markdown",
   "metadata": {},
   "source": [
    "## Evaluate returns\n",
    "- set a starting value for our investment of $1000\n",
    "- use the monthly returns from our portfolio selection and AMD and apply them to our starting cash balance. \n",
    "- get a month-by-month picture of how our investment is doing, and we can see how our predictions did overall vs the AMD "
   ]
  },
  {
   "cell_type": "code",
   "execution_count": 18,
   "metadata": {},
   "outputs": [
    {
     "name": "stdout",
     "output_type": "stream",
     "text": [
      "algo returns: 0.14903032753095818\n",
      "smlv returns: 0.08942176988360688\n"
     ]
    },
    {
     "data": {
      "image/png": "[encoded data removed]",
      "text/plain": [
       "<Figure size 432x288 with 1 Axes>"
      ]
     },
     "metadata": {
      "needs_background": "light"
     },
     "output_type": "display_data"
    }
   ],
   "source": [
    "# Calculate the effect of our portfolio selection on a hypothetical $1k investment\n",
    "cash = 1000\n",
    "algo_cash, smlv_cash = [cash], [cash]  # set equal starting cash amounts\n",
    "for r in test_returns:\n",
    "    cash *= 1 + r\n",
    "    algo_cash.append(cash)\n",
    "\n",
    "# Calculate performance for smlv\n",
    "cash = 1000  # reset cash amount\n",
    "for r in returns_monthly['SMLV'].iloc[train_size:]:\n",
    "    cash *= 1+r \n",
    "    smlv_cash.append(cash)\n",
    "\n",
    "print('algo returns:', (algo_cash[-1] - algo_cash[0]) / algo_cash[0])\n",
    "print('smlv returns:', (smlv_cash[-1] - smlv_cash[0]) / smlv_cash[0])\n",
    "\n",
    "# Plot the algo_cash and spy_cash to compare overall returns\n",
    "plt.plot(algo_cash, label='algo')\n",
    "plt.plot(smlv_cash, label='SMLV')\n",
    "plt.legend()  # show the legend\n",
    "plt.show()"
   ]
  },
  {
   "cell_type": "code",
   "execution_count": null,
   "metadata": {},
   "outputs": [],
   "source": []
  }
 ],
 "metadata": {
  "kernelspec": {
   "display_name": "Python 3",
   "language": "python",
   "name": "python3"
  },
  "language_info": {
   "codemirror_mode": {
    "name": "ipython",
    "version": 3
   },
   "file_extension": ".py",
   "mimetype": "text/x-python",
   "name": "python",
   "nbconvert_exporter": "python",
   "pygments_lexer": "ipython3",
   "version": "3.7.3"
  }
 },
 "nbformat": 4,
 "nbformat_minor": 2
}
